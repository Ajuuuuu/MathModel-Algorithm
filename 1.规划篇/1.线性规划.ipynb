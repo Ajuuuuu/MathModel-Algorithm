{
 "cells": [
  {
   "cell_type": "markdown",
   "id": "fe74450c",
   "metadata": {},
   "source": [
    "对于线性规划问题：\n",
    "matlab解法\n",
    "[x,fval] = linprog(c,A,b,Aeq,beq,lb,ub)"
   ]
  },
  {
   "cell_type": "code",
   "execution_count": null,
   "id": "a7e495c6",
   "metadata": {},
   "outputs": [],
   "source": [
    "from scipy import optimize\n",
    "import numpy as np\n",
    "#求解函数\n",
    "res = optimize.linprog(c,A,b,Aeq,beq,lb,ub)\n",
    "#目标最小值\n",
    "print(res.fun)\n",
    "#最优解\n",
    "print(res.x)"
   ]
  },
  {
   "cell_type": "markdown",
   "id": "b16e156e",
   "metadata": {},
   "source": [
    "eg:\n",
    "\n",
    "max z = 2x1+3x2-5x3\n",
    "\n",
    "s.t: x1+x2+x3 =7\n",
    "\n",
    "​\t2x1-5x2+x3>=10\n",
    "\n",
    "​\tx1+3x2+x3<=12\n",
    "\n",
    "​\tx1,x2,x3>=0"
   ]
  },
  {
   "cell_type": "code",
   "execution_count": 11,
   "id": "d1acdf00",
   "metadata": {},
   "outputs": [
    {
     "name": "stdout",
     "output_type": "stream",
     "text": [
      "最大值为： 14.571428565645084\n",
      "最优解为： [6.42857143e+00 5.71428571e-01 2.35900788e-10]\n"
     ]
    }
   ],
   "source": [
    "from scipy import optimize\n",
    "import numpy as np\n",
    "\n",
    "c = np.array([[-2,-3,5]])\n",
    "\n",
    "A = np.array([[-2,5,-1],[1,3,1]])\n",
    "b = np.array([[-10],[12]])\n",
    "Aeq = np.array([[1,1,1]])\n",
    "beq = np.array([[7]])\n",
    "\n",
    "res = optimize.linprog(c,A,b,Aeq,beq)\n",
    "\n",
    "print('最大值为：',-res.fun)\n",
    "print('最优解为：',res.x)"
   ]
  },
  {
   "cell_type": "markdown",
   "id": "95dccb93",
   "metadata": {},
   "source": [
    "另一种解法 ： pulp\n",
    "\n",
    "此方法可以直接用list 而非用array"
   ]
  },
  {
   "cell_type": "code",
   "execution_count": 5,
   "id": "e533baa9",
   "metadata": {},
   "outputs": [
    {
     "name": "stdout",
     "output_type": "stream",
     "text": [
      "优化结果： 14.57142851\n",
      "参数取值： [6.4285714, 0.57142857, 0.0]\n"
     ]
    }
   ],
   "source": [
    "import pulp\n",
    "#目标函数系数\n",
    "f = [2,3,-5]\n",
    "#约束条件\n",
    "A = [[-2,5,-1],[1,3,1]]\n",
    "b = [[-10],[12]]\n",
    "\n",
    "Aeq = [[1,1,1]]\n",
    "beq = [[7]]\n",
    "\n",
    "#确定最大最小问题 Max与Min更改即可\n",
    "m = pulp.LpProblem(sense=pulp.LpMaximize)\n",
    "#定义三个变量放在列表中 这里的lowBound代表lb 自变量的下限为0\n",
    "x = [pulp.LpVariable(f'x{i}',lowBound=0) for i in [1,2,3]]\n",
    "#lpDot这个方法 用于将两个列表对应位置的元素相乘之后再相加\n",
    "#相当于 x[0]y[0]+x[1]y[1]\n",
    "\n",
    "#在上面定义了m的类型是最大还是最小 现在再加上一个式子的要求\n",
    "m += pulp.lpDot(f,x)\n",
    "\n",
    "# 加上不等式的约束\n",
    "for i in range(len(A)):\n",
    "    m += (pulp.lpDot(A[i],x) <= b[i])\n",
    "    \n",
    "#加上等式约束\n",
    "for i in range(len(Aeq)):\n",
    "    m += pulp.lpDot(Aeq[i],x) == beq[i]\n",
    "\n",
    "#求解\n",
    "m.solve()\n",
    "#这个求解过程 相当于在不断给m增加约束条件 m就是一个代表着约束的变量\n",
    "\n",
    "#输出结果\n",
    "print('优化结果：',pulp.value(m.objective))\n",
    "print('参数取值：',[pulp.value(var) for var in x])"
   ]
  },
  {
   "cell_type": "markdown",
   "id": "7efba077",
   "metadata": {},
   "source": [
    "# 一些例子"
   ]
  },
  {
   "cell_type": "markdown",
   "id": "dc80a7b1",
   "metadata": {},
   "source": [
    "1.司守奎《数学建模算法与应用》\n",
    "p7 例1.5"
   ]
  },
  {
   "cell_type": "code",
   "execution_count": null,
   "id": "fe302840",
   "metadata": {},
   "outputs": [],
   "source": [
    "import pulp\n"
   ]
  }
 ],
 "metadata": {
  "kernelspec": {
   "display_name": "python3.9",
   "language": "python",
   "name": "python3.9"
  },
  "language_info": {
   "codemirror_mode": {
    "name": "ipython",
    "version": 3
   },
   "file_extension": ".py",
   "mimetype": "text/x-python",
   "name": "python",
   "nbconvert_exporter": "python",
   "pygments_lexer": "ipython3",
   "version": "3.9.7"
  }
 },
 "nbformat": 4,
 "nbformat_minor": 5
}
