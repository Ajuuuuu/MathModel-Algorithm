{
 "cells": [
  {
   "cell_type": "markdown",
   "id": "1485253c",
   "metadata": {},
   "source": [
    "# 整数规划\n",
    "- 整数规划的模型与线性规划基本相同，只是额外增加了部分或所有决策变量为整数的约束\n",
    "\n",
    "从决策变量（问题中要确定的未知量）的取值范围来看，整数规划通常可以分为以下三种类型：\n",
    "- 纯整数规划： 全部决策变量都取整数\n",
    "- 混合整数规划： 决策变量中有一部分必须取整数，另一些可以不取整数\n",
    "- 0-1整数规划： 决策变量只能取0或1的整数规划\n",
    "\n",
    "对于0-1整数规划：约束条件加上 xi（1-xi）=0  i=1,2,3....  即可表示"
   ]
  },
  {
   "cell_type": "markdown",
   "id": "8255f3cc",
   "metadata": {},
   "source": [
    "## 1.分支定界法："
   ]
  },
  {
   "cell_type": "code",
   "execution_count": 1,
   "id": "146ba6a6",
   "metadata": {},
   "outputs": [],
   "source": [
    "import math\n",
    "from scipy.optimize import linprog\n",
    "import sys\n",
    "\n",
    "def integerPro(c, A, b, Aeq, beq,t=1.0E-8):\n",
    "    res = linprog(c, A_ub=A, b_ub=b, A_eq=Aeq, b_eq=beq)\n",
    "    bestVal = sys.maxsize\n",
    "    bestX = res.x\n",
    "    if not(type(res.x) is float or res.status != 0): \n",
    "        bestVal = sum([x*y for x,y in zip(c, bestX)])\n",
    "    if all(((x-math.floor(x))<=t or (math.ceil(x)-x)<=t) for x in bestX):\n",
    "        return (bestVal,bestX)\n",
    "    else:\n",
    "        ind = [i for i, x in enumerate(bestX) if (x-math.floor(x))>t and (math.ceil(x)-x)>t][0]\n",
    "        newCon1 = [0]*len(A[0])\n",
    "        newCon2 = [0]*len(A[0])\n",
    "        newCon1[ind] = -1\n",
    "        newCon2[ind] = 1\n",
    "        newA1 = A.copy()\n",
    "        newA2 = A.copy()\n",
    "        newA1.append(newCon1)\n",
    "        newA2.append(newCon2)\n",
    "        newB1 = b.copy()\n",
    "        newB2 = b.copy()\n",
    "        newB1.append(-math.ceil(bestX[ind]))\n",
    "        newB2.append(math.floor(bestX[ind]))\n",
    "        r1 = integerPro(c, newA1, newB1, Aeq, beq)\n",
    "        r2 = integerPro(c, newA2, newB2, Aeq, beq)\n",
    "        if r1[0] < r2[0]:\n",
    "            return r1\n",
    "        else:\n",
    "            return r2"
   ]
  },
  {
   "cell_type": "markdown",
   "id": "0e8058ac",
   "metadata": {},
   "source": [
    "## 2.pulp库\n",
    "\n",
    "在变量设置中 设置 cat='Integer'\n",
    "\n",
    "其余与1.线性规划部分差别不大"
   ]
  },
  {
   "cell_type": "code",
   "execution_count": null,
   "id": "b3eeecea",
   "metadata": {},
   "outputs": [],
   "source": [
    " var = [[pulp.LpVariable(f'x{i}{j}',lowBound=0,cat=pulp.LpInteger) for j in range(col)]for i in range(row)]"
   ]
  },
  {
   "cell_type": "code",
   "execution_count": null,
   "id": "8cd5f19d",
   "metadata": {},
   "outputs": [],
   "source": []
  }
 ],
 "metadata": {
  "kernelspec": {
   "display_name": "python3.9",
   "language": "python",
   "name": "python3.9"
  },
  "language_info": {
   "codemirror_mode": {
    "name": "ipython",
    "version": 3
   },
   "file_extension": ".py",
   "mimetype": "text/x-python",
   "name": "python",
   "nbconvert_exporter": "python",
   "pygments_lexer": "ipython3",
   "version": "3.9.7"
  }
 },
 "nbformat": 4,
 "nbformat_minor": 5
}
